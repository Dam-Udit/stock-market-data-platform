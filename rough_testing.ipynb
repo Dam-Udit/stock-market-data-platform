{
 "cells": [
  {
   "cell_type": "code",
   "execution_count": 14,
   "id": "cc04ee15-2aad-41cd-ad86-2018969ec30c",
   "metadata": {},
   "outputs": [],
   "source": [
    "import pandas as pd\n",
    "import yfinance as yf\n",
    "import sqlite3\n",
    "import enum\n",
    "import datetime"
   ]
  },
  {
   "cell_type": "code",
   "execution_count": 15,
   "id": "3fd35715-3b4e-4ef4-9a94-ae204e03601e",
   "metadata": {},
   "outputs": [],
   "source": [
    "class Duration(enum.Enum):\n",
    "    ONE_DAY = \"1d\"\n",
    "    THREE_DAYS = \"3d\"\n",
    "    ONE_WEEK = \"1w\"\n",
    "    ONE_MONTH = \"1m\"\n",
    "    THREE_MONTHS = \"3m\"\n",
    "    SIX_MONTHS = \"6m\"\n",
    "    ONE_YEAR = \"1y\"\n",
    "    THREE_YEARS = \"3y\"\n",
    "    FIVE_YEARS = \"5y\""
   ]
  },
  {
   "cell_type": "code",
   "execution_count": 19,
   "id": "499b0a2f-424d-4ed6-842b-effc19c7995a",
   "metadata": {},
   "outputs": [],
   "source": [
    "def get_dates(duration):\n",
    "    today = datetime.date.today()\n",
    "    if duration == \"1d\":\n",
    "        end_date = today - datetime.timedelta(days=1)\n",
    "    elif duration == \"3d\":\n",
    "        end_date = today - datetime.timedelta(days=3)\n",
    "    elif duration == \"1w\":\n",
    "        end_date = today - datetime.timedelta(weeks=1)\n",
    "    elif duration == \"1m\":\n",
    "        end_date = today - datetime.timedelta(days=30)\n",
    "    elif duration == \"3m\":\n",
    "        end_date = today - datetime.timedelta(days=90)\n",
    "    elif duration == \"6m\":\n",
    "        end_date = today - datetime.timedelta(days=182)\n",
    "    elif duration == \"1y\":\n",
    "        end_date = today - datetime.timedelta(days=365)\n",
    "    elif duration == \"3y\":\n",
    "        end_date = today - datetime.timedelta(days=1095)\n",
    "    elif duration == \"5y\":\n",
    "        end_date = today - datetime.timedelta(days=1825)\n",
    "    else:\n",
    "        raise ValueError(\"Invalid duration\")\n",
    "    return end_date, today"
   ]
  },
  {
   "cell_type": "code",
   "execution_count": 20,
   "id": "d776fd99-f516-493b-b6c1-dc23e0642d44",
   "metadata": {},
   "outputs": [],
   "source": [
    "def get_stock_data(ticker, duration):\n",
    "    start_date, end_date = get_dates(duration)\n",
    "    data = yf.download(ticker, start=start_date, end=end_date)\n",
    "    data.reset_index(inplace=True)\n",
    "    data['ticker'] = ticker\n",
    "    return data"
   ]
  },
  {
   "cell_type": "code",
   "execution_count": 26,
   "id": "6efb2b22-3d78-4790-9f22-aa16b6c57228",
   "metadata": {},
   "outputs": [
    {
     "name": "stderr",
     "output_type": "stream",
     "text": [
      "[*********************100%%**********************]  1 of 1 completed\n"
     ]
    },
    {
     "data": {
      "text/html": [
       "<div>\n",
       "<style scoped>\n",
       "    .dataframe tbody tr th:only-of-type {\n",
       "        vertical-align: middle;\n",
       "    }\n",
       "\n",
       "    .dataframe tbody tr th {\n",
       "        vertical-align: top;\n",
       "    }\n",
       "\n",
       "    .dataframe thead th {\n",
       "        text-align: right;\n",
       "    }\n",
       "</style>\n",
       "<table border=\"1\" class=\"dataframe\">\n",
       "  <thead>\n",
       "    <tr style=\"text-align: right;\">\n",
       "      <th></th>\n",
       "      <th>Date</th>\n",
       "      <th>Open</th>\n",
       "      <th>High</th>\n",
       "      <th>Low</th>\n",
       "      <th>Close</th>\n",
       "      <th>Adj Close</th>\n",
       "      <th>Volume</th>\n",
       "      <th>ticker</th>\n",
       "    </tr>\n",
       "  </thead>\n",
       "  <tbody>\n",
       "    <tr>\n",
       "      <th>0</th>\n",
       "      <td>2024-07-09</td>\n",
       "      <td>447.600006</td>\n",
       "      <td>455.000000</td>\n",
       "      <td>444.000000</td>\n",
       "      <td>452.600006</td>\n",
       "      <td>452.600006</td>\n",
       "      <td>26470260</td>\n",
       "      <td>ITC.NS</td>\n",
       "    </tr>\n",
       "    <tr>\n",
       "      <th>1</th>\n",
       "      <td>2024-07-10</td>\n",
       "      <td>453.700012</td>\n",
       "      <td>455.350006</td>\n",
       "      <td>446.500000</td>\n",
       "      <td>451.450012</td>\n",
       "      <td>451.450012</td>\n",
       "      <td>11618210</td>\n",
       "      <td>ITC.NS</td>\n",
       "    </tr>\n",
       "    <tr>\n",
       "      <th>2</th>\n",
       "      <td>2024-07-11</td>\n",
       "      <td>450.000000</td>\n",
       "      <td>459.500000</td>\n",
       "      <td>448.700012</td>\n",
       "      <td>458.649994</td>\n",
       "      <td>458.649994</td>\n",
       "      <td>18831345</td>\n",
       "      <td>ITC.NS</td>\n",
       "    </tr>\n",
       "    <tr>\n",
       "      <th>3</th>\n",
       "      <td>2024-07-12</td>\n",
       "      <td>458.649994</td>\n",
       "      <td>463.250000</td>\n",
       "      <td>455.850006</td>\n",
       "      <td>459.049988</td>\n",
       "      <td>459.049988</td>\n",
       "      <td>18962800</td>\n",
       "      <td>ITC.NS</td>\n",
       "    </tr>\n",
       "  </tbody>\n",
       "</table>\n",
       "</div>"
      ],
      "text/plain": [
       "        Date        Open        High         Low       Close   Adj Close  \\\n",
       "0 2024-07-09  447.600006  455.000000  444.000000  452.600006  452.600006   \n",
       "1 2024-07-10  453.700012  455.350006  446.500000  451.450012  451.450012   \n",
       "2 2024-07-11  450.000000  459.500000  448.700012  458.649994  458.649994   \n",
       "3 2024-07-12  458.649994  463.250000  455.850006  459.049988  459.049988   \n",
       "\n",
       "     Volume  ticker  \n",
       "0  26470260  ITC.NS  \n",
       "1  11618210  ITC.NS  \n",
       "2  18831345  ITC.NS  \n",
       "3  18962800  ITC.NS  "
      ]
     },
     "execution_count": 26,
     "metadata": {},
     "output_type": "execute_result"
    }
   ],
   "source": [
    "get_stock_data('ITC.NS', '1w')"
   ]
  },
  {
   "cell_type": "code",
   "execution_count": null,
   "id": "0fdf4d3b-bc92-4ecf-a486-cdb84053120c",
   "metadata": {},
   "outputs": [],
   "source": []
  }
 ],
 "metadata": {
  "kernelspec": {
   "display_name": "Python 3 (ipykernel)",
   "language": "python",
   "name": "python3"
  },
  "language_info": {
   "codemirror_mode": {
    "name": "ipython",
    "version": 3
   },
   "file_extension": ".py",
   "mimetype": "text/x-python",
   "name": "python",
   "nbconvert_exporter": "python",
   "pygments_lexer": "ipython3",
   "version": "3.10.8"
  }
 },
 "nbformat": 4,
 "nbformat_minor": 5
}
