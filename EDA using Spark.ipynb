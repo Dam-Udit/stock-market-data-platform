{
 "cells": [
  {
   "cell_type": "code",
   "execution_count": 1,
   "id": "d1edc4e7-fefe-418f-a09b-56e1dc811c40",
   "metadata": {},
   "outputs": [],
   "source": [
    "import warnings\n",
    "warnings.filterwarnings('ignore')"
   ]
  },
  {
   "cell_type": "code",
   "execution_count": 2,
   "id": "f4a986d2-db86-4791-a31b-ca7cfdbdeb8d",
   "metadata": {},
   "outputs": [],
   "source": [
    "import findspark\n",
    "\n",
    "findspark.init()"
   ]
  },
  {
   "cell_type": "code",
   "execution_count": 3,
   "id": "ecd9f34d-f6b0-41d5-a3ab-bfab9cb21498",
   "metadata": {},
   "outputs": [],
   "source": [
    "from pyspark.sql import SparkSession\n",
    "from pyspark.sql.functions import asc, desc\n",
    "\n",
    "import pandas as pd\n",
    "import seaborn as sns\n",
    "import matplotlib.pyplot as plt"
   ]
  },
  {
   "cell_type": "code",
   "execution_count": 4,
   "id": "3a365659-70c8-4f91-a286-c9380e4b0d50",
   "metadata": {},
   "outputs": [],
   "source": [
    "jdbc_driver_path = 'C:\\spark\\jars\\postgresql-42.7.3'\n",
    "\n",
    "spark = SparkSession.builder \\\n",
    "    .appName(\"PostgreSQL_PySpark\") \\\n",
    "    .config(\"spark.driver.extraClassPath\", jdbc_driver_path) \\\n",
    "    .getOrCreate()\n"
   ]
  },
  {
   "cell_type": "code",
   "execution_count": 5,
   "id": "efd88945-712f-495c-807a-d16c63b00458",
   "metadata": {},
   "outputs": [],
   "source": [
    "jdbc_connection_string = 'jdbc:postgresql://localhost:5432/IndicesDB'\n",
    "\n",
    "db_config = {\n",
    "    \"user\": \"airflow\",\n",
    "    \"password\": \"password\",\n",
    "    \"driver\": \"org.postgresql.Driver\"\n",
    "}"
   ]
  },
  {
   "cell_type": "code",
   "execution_count": 6,
   "id": "0ab64a88-934e-41a5-b597-867ccd065200",
   "metadata": {},
   "outputs": [],
   "source": [
    "df = spark.read.jdbc(url=jdbc_connection_string, table=\"sensex\", properties=db_config)"
   ]
  },
  {
   "cell_type": "code",
   "execution_count": 7,
   "id": "104231e5-8998-45bb-aa50-178bbb51ab9b",
   "metadata": {},
   "outputs": [],
   "source": [
    "from pyspark.sql.functions import col\n",
    "df = df.withColumn(\"open\", col(\"open\").cast(\"double\"))\n",
    "df = df.withColumn(\"high\", col(\"high\").cast(\"double\"))\n",
    "df = df.withColumn(\"low\", col(\"low\").cast(\"double\"))\n",
    "df = df.withColumn(\"close\", col(\"close\").cast(\"double\"))\n",
    "df = df.withColumn(\"adj_close\", col(\"adj_close\").cast(\"double\"))\n",
    "df = df.withColumn(\"volume\", col(\"volume\").cast(\"long\"))"
   ]
  },
  {
   "cell_type": "code",
   "execution_count": 8,
   "id": "c373fd9f-2f57-4096-a406-3d7e204bb393",
   "metadata": {},
   "outputs": [
    {
     "data": {
      "text/plain": [
       "['date', 'open', 'high', 'low', 'close', 'adj_close', 'volume', 'returns']"
      ]
     },
     "execution_count": 8,
     "metadata": {},
     "output_type": "execute_result"
    }
   ],
   "source": [
    "df.columns"
   ]
  },
  {
   "cell_type": "code",
   "execution_count": 9,
   "id": "99a7bab7-15d2-45e5-971d-caae0ce7913e",
   "metadata": {},
   "outputs": [
    {
     "name": "stdout",
     "output_type": "stream",
     "text": [
      "+-------------------+----------------+----------------+----------------+----------------+----------------+------+--------------------+\n",
      "|               date|            open|            high|             low|           close|       adj_close|volume|             returns|\n",
      "+-------------------+----------------+----------------+----------------+----------------+----------------+------+--------------------+\n",
      "|1997-07-02 00:00:00| 4302.9599609375|4395.31005859375|4295.39990234375|4333.89990234375|4333.89990234375|     0|0.007682193820026...|\n",
      "|1997-07-03 00:00:00| 4335.7900390625| 4393.2900390625|4299.97021484375| 4323.4599609375| 4323.4599609375|     0|-0.00240890229158...|\n",
      "|1997-07-04 00:00:00| 4332.7001953125|   4347.58984375|  4300.580078125|4323.81982421875|4323.81982421875|     0|8.323502114082615E-5|\n",
      "|1997-07-07 00:00:00|4326.81005859375|  4391.009765625|  4289.490234375| 4291.4501953125| 4291.4501953125|     0|-0.00748635008446...|\n",
      "|1997-07-08 00:00:00|4285.64990234375|          4313.0|  4252.490234375|4306.39013671875|4306.39013671875|     0|0.003481326993511...|\n",
      "|1997-07-09 00:00:00|  4315.419921875|  4404.830078125|  4315.419921875|4404.68994140625|4404.68994140625|     0| 0.02282649773167078|\n",
      "|1997-07-10 00:00:00|4413.39013671875|4448.06005859375|4376.10986328125| 4378.3701171875| 4378.3701171875|     0|-0.00597540906825...|\n",
      "|1997-07-11 00:00:00|         4372.75|         4372.75|4301.93017578125|4321.97998046875|4321.97998046875|     0|-0.01287925305752...|\n",
      "|1997-07-14 00:00:00| 4251.7001953125| 4251.7001953125|  4182.419921875|4225.02001953125|4225.02001953125|     0|-0.02243415318341757|\n",
      "|1997-07-15 00:00:00|4229.89013671875|4261.02978515625|4204.72021484375|4221.02001953125|4221.02001953125|     0|-9.46741076139012...|\n",
      "|1997-07-16 00:00:00|4232.52978515625|  4263.259765625|          4171.0|  4183.419921875|  4183.419921875|     0|-0.00890782263108...|\n",
      "|1997-07-17 00:00:00|   4183.91015625|4202.31005859375|  4152.259765625|4193.60986328125|4193.60986328125|     0|0.002435792150093...|\n",
      "|1997-07-18 00:00:00|4174.72021484375|4193.72021484375|4115.72998046875|4124.81005859375|4124.81005859375|     0|-0.01640586676645...|\n",
      "|1997-07-21 00:00:00|  4134.080078125|          4155.5|4105.27978515625|4154.27978515625|4154.27978515625|     0|0.007144505115114885|\n",
      "|1997-07-22 00:00:00|4161.93994140625|4189.81982421875|4145.64990234375| 4186.2900390625| 4186.2900390625|     0|0.007705367852359535|\n",
      "|1997-07-23 00:00:00|  4204.830078125|4258.60009765625|4182.31982421875| 4251.1298828125| 4251.1298828125|     0|0.015488617163401441|\n",
      "|1997-07-24 00:00:00|4264.93017578125| 4294.9501953125|4223.60986328125| 4226.3701171875| 4226.3701171875|     0|-0.00582427879352...|\n",
      "|1997-07-25 00:00:00| 4218.2900390625|4222.72998046875|          4159.0|4189.81005859375|4189.81005859375|     0|-0.00865046306405...|\n",
      "|1997-07-28 00:00:00|   4191.91015625| 4197.2099609375|4163.52978515625|4181.47998046875|4181.47998046875|     0|-0.00198817559949...|\n",
      "|1997-07-29 00:00:00|   4180.58984375|4218.97998046875|4171.10986328125|  4217.580078125|  4217.580078125|     0|0.008633330262220573|\n",
      "+-------------------+----------------+----------------+----------------+----------------+----------------+------+--------------------+\n",
      "only showing top 20 rows\n",
      "\n"
     ]
    }
   ],
   "source": [
    "df.show()"
   ]
  },
  {
   "cell_type": "code",
   "execution_count": 10,
   "id": "50c2afd6-5450-4124-917d-c802b36b75bf",
   "metadata": {},
   "outputs": [],
   "source": [
    "from pyspark.sql.functions import to_date\n",
    "df = df.withColumn(\"date\", to_date(col(\"date\")))"
   ]
  },
  {
   "cell_type": "code",
   "execution_count": 11,
   "id": "261c266f-5bc2-4f46-8150-ab2e0ff34399",
   "metadata": {},
   "outputs": [
    {
     "data": {
      "text/plain": [
       "[Row(date=datetime.date(1997, 7, 2), open=4302.9599609375, high=4395.31005859375, low=4295.39990234375, close=4333.89990234375, adj_close=4333.89990234375, volume=0, returns=0.0076821938200266615),\n",
       " Row(date=datetime.date(1997, 7, 3), open=4335.7900390625, high=4393.2900390625, low=4299.97021484375, close=4323.4599609375, adj_close=4323.4599609375, volume=0, returns=-0.0024089022915836367),\n",
       " Row(date=datetime.date(1997, 7, 4), open=4332.7001953125, high=4347.58984375, low=4300.580078125, close=4323.81982421875, adj_close=4323.81982421875, volume=0, returns=8.323502114082615e-05),\n",
       " Row(date=datetime.date(1997, 7, 7), open=4326.81005859375, high=4391.009765625, low=4289.490234375, close=4291.4501953125, adj_close=4291.4501953125, volume=0, returns=-0.0074863500844646325),\n",
       " Row(date=datetime.date(1997, 7, 8), open=4285.64990234375, high=4313.0, low=4252.490234375, close=4306.39013671875, adj_close=4306.39013671875, volume=0, returns=0.0034813269935112245)]"
      ]
     },
     "execution_count": 11,
     "metadata": {},
     "output_type": "execute_result"
    }
   ],
   "source": [
    "df.head(5)"
   ]
  },
  {
   "cell_type": "code",
   "execution_count": 12,
   "id": "0eca7fdf-74a1-44b6-8e10-4a1e064bf23e",
   "metadata": {},
   "outputs": [
    {
     "data": {
      "text/plain": [
       "[Row(date=datetime.date(1997, 7, 2), open=4302.9599609375, high=4395.31005859375, low=4295.39990234375, close=4333.89990234375, adj_close=4333.89990234375, volume=0, returns=0.0076821938200266615),\n",
       " Row(date=datetime.date(1997, 7, 3), open=4335.7900390625, high=4393.2900390625, low=4299.97021484375, close=4323.4599609375, adj_close=4323.4599609375, volume=0, returns=-0.0024089022915836367),\n",
       " Row(date=datetime.date(1997, 7, 4), open=4332.7001953125, high=4347.58984375, low=4300.580078125, close=4323.81982421875, adj_close=4323.81982421875, volume=0, returns=8.323502114082615e-05),\n",
       " Row(date=datetime.date(1997, 7, 7), open=4326.81005859375, high=4391.009765625, low=4289.490234375, close=4291.4501953125, adj_close=4291.4501953125, volume=0, returns=-0.0074863500844646325),\n",
       " Row(date=datetime.date(1997, 7, 8), open=4285.64990234375, high=4313.0, low=4252.490234375, close=4306.39013671875, adj_close=4306.39013671875, volume=0, returns=0.0034813269935112245)]"
      ]
     },
     "execution_count": 12,
     "metadata": {},
     "output_type": "execute_result"
    }
   ],
   "source": [
    "df.take(5)"
   ]
  },
  {
   "cell_type": "markdown",
   "id": "3155380f-9e21-4621-931a-e0e75bfce5ba",
   "metadata": {},
   "source": [
    "### Data Summary & descriptive statistics"
   ]
  },
  {
   "cell_type": "code",
   "execution_count": 13,
   "id": "16d88347-3e48-446c-b8cb-04ed62b005fe",
   "metadata": {},
   "outputs": [
    {
     "name": "stdout",
     "output_type": "stream",
     "text": [
      "root\n",
      " |-- date: date (nullable = true)\n",
      " |-- open: double (nullable = true)\n",
      " |-- high: double (nullable = true)\n",
      " |-- low: double (nullable = true)\n",
      " |-- close: double (nullable = true)\n",
      " |-- adj_close: double (nullable = true)\n",
      " |-- volume: long (nullable = true)\n",
      " |-- returns: double (nullable = true)\n",
      "\n"
     ]
    }
   ],
   "source": [
    "df.printSchema()"
   ]
  },
  {
   "cell_type": "code",
   "execution_count": 14,
   "id": "ca85d695-e86b-4eff-9b39-36d482db9a75",
   "metadata": {},
   "outputs": [
    {
     "name": "stdout",
     "output_type": "stream",
     "text": [
      "+-------+-----------------+------------------+------------------+------------------+------------------+-----------------+--------------------+\n",
      "|summary|             open|              high|               low|             close|         adj_close|           volume|             returns|\n",
      "+-------+-----------------+------------------+------------------+------------------+------------------+-----------------+--------------------+\n",
      "|  count|             6679|              6679|              6679|              6679|              6679|             6679|                6679|\n",
      "|   mean|22425.60754564505| 22551.44163200423|22260.963179762948|22405.574208259153|22405.574208259153|60703.15915556221| 5.40577405769198E-4|\n",
      "| stddev|18915.58620683027|18989.372625220476|18814.316258721177|18905.056045615136|18905.056045615136|916402.6514187439| 0.01444893829002538|\n",
      "|    min|2621.889892578125| 2682.590087890625|   2594.8701171875|   2600.1201171875|   2600.1201171875|                0| -0.1315258002691394|\n",
      "|    25%| 5477.60986328125|    5533.330078125|     5399.33984375|            5455.0|            5455.0|             6100|-0.00625751346394...|\n",
      "|    50%|   17643.58984375|     17753.4296875|   17492.279296875|   17615.720703125|   17615.720703125|            11500|8.954346100038535E-4|\n",
      "|    75%|     31926.140625|    32062.23046875|   31714.099609375|      31846.890625|      31846.890625|            18400|0.007599366477861302|\n",
      "|    max|    81949.6796875|     82129.4921875|     81700.2109375|      81867.546875|      81867.546875|         31815100| 0.17339334818061447|\n",
      "+-------+-----------------+------------------+------------------+------------------+------------------+-----------------+--------------------+\n",
      "\n"
     ]
    }
   ],
   "source": [
    "df.summary().show()"
   ]
  },
  {
   "cell_type": "code",
   "execution_count": 15,
   "id": "9e2751a5-e412-47e4-9954-ee949c5cabd4",
   "metadata": {},
   "outputs": [
    {
     "name": "stdout",
     "output_type": "stream",
     "text": [
      "+-------+-----------------+------------------+------------------+------------------+------------------+-----------------+-------------------+\n",
      "|summary|             open|              high|               low|             close|         adj_close|           volume|            returns|\n",
      "+-------+-----------------+------------------+------------------+------------------+------------------+-----------------+-------------------+\n",
      "|  count|             6679|              6679|              6679|              6679|              6679|             6679|               6679|\n",
      "|   mean|22425.60754564505| 22551.44163200423|22260.963179762948|22405.574208259153|22405.574208259153|60703.15915556221|5.40577405769198E-4|\n",
      "| stddev|18915.58620683027|18989.372625220476|18814.316258721177|18905.056045615136|18905.056045615136|916402.6514187439|0.01444893829002538|\n",
      "|    min|2621.889892578125| 2682.590087890625|   2594.8701171875|   2600.1201171875|   2600.1201171875|                0|-0.1315258002691394|\n",
      "|    max|    81949.6796875|     82129.4921875|     81700.2109375|      81867.546875|      81867.546875|         31815100|0.17339334818061447|\n",
      "+-------+-----------------+------------------+------------------+------------------+------------------+-----------------+-------------------+\n",
      "\n"
     ]
    }
   ],
   "source": [
    "df.describe().show()"
   ]
  },
  {
   "cell_type": "code",
   "execution_count": 16,
   "id": "2b8df884-f9ae-445f-b958-a97d0ad71c08",
   "metadata": {},
   "outputs": [
    {
     "name": "stdout",
     "output_type": "stream",
     "text": [
      "+----------+-------------+\n",
      "|      date|         high|\n",
      "+----------+-------------+\n",
      "|2024-08-01|82129.4921875|\n",
      "|2024-07-29|81908.4296875|\n",
      "|2024-07-31|81828.0390625|\n",
      "|2024-07-30|81815.2734375|\n",
      "|2024-07-19|81587.7578125|\n",
      "|2024-07-18| 81522.546875|\n",
      "|2024-07-26|81427.1796875|\n",
      "|2024-08-02|81345.6015625|\n",
      "|2024-07-16| 80898.296875|\n",
      "|2024-07-12|80893.5078125|\n",
      "+----------+-------------+\n",
      "\n"
     ]
    }
   ],
   "source": [
    "df.orderBy(df[\"high\"], ascending=False).select(df[\"date\"], df[\"high\"]).limit(10).show()"
   ]
  },
  {
   "cell_type": "code",
   "execution_count": 17,
   "id": "325eee1e-fe62-4e39-b631-3bb3b59f151d",
   "metadata": {},
   "outputs": [
    {
     "name": "stdout",
     "output_type": "stream",
     "text": [
      "+------------------+\n",
      "|    avg(adj_close)|\n",
      "+------------------+\n",
      "|22405.574208259153|\n",
      "+------------------+\n",
      "\n"
     ]
    }
   ],
   "source": [
    "from pyspark.sql.functions import mean\n",
    "df.select(mean(df['adj_close'])).show()"
   ]
  },
  {
   "cell_type": "code",
   "execution_count": 18,
   "id": "d97d073f-e768-4478-86dc-d0a62e888107",
   "metadata": {},
   "outputs": [
    {
     "name": "stdout",
     "output_type": "stream",
     "text": [
      "+-----------+-----------+\n",
      "|min(volume)|max(volume)|\n",
      "+-----------+-----------+\n",
      "|          0|   31815100|\n",
      "+-----------+-----------+\n",
      "\n"
     ]
    }
   ],
   "source": [
    "from pyspark.sql.functions import min, max\n",
    "df.select(min('volume'), max('volume')).show()"
   ]
  },
  {
   "cell_type": "code",
   "execution_count": 19,
   "id": "689a1981-bccc-4415-b51a-7a550b91efad",
   "metadata": {},
   "outputs": [
    {
     "name": "stdout",
     "output_type": "stream",
     "text": [
      "+-----------+-----------+\n",
      "|min(volume)|max(volume)|\n",
      "+-----------+-----------+\n",
      "|        100|   31815100|\n",
      "+-----------+-----------+\n",
      "\n"
     ]
    }
   ],
   "source": [
    "df.filter(df.volume > 0).select(min('volume'), max('volume')).show()"
   ]
  },
  {
   "cell_type": "code",
   "execution_count": 20,
   "id": "1d576c4a-ae81-453e-8ca6-cfb2a028c487",
   "metadata": {},
   "outputs": [
    {
     "name": "stdout",
     "output_type": "stream",
     "text": [
      "+----------+--------+\n",
      "|      date|  volume|\n",
      "+----------+--------+\n",
      "|2019-02-01|31815100|\n",
      "|2018-12-18|20793100|\n",
      "|2018-12-20|19766300|\n",
      "|2019-01-30|18974200|\n",
      "|2019-01-31|18611400|\n",
      "+----------+--------+\n",
      "\n"
     ]
    }
   ],
   "source": [
    "df.filter(df.volume > 0).orderBy(df[\"volume\"], ascending=False).select(df[\"date\"], df[\"volume\"]).limit(5).show()"
   ]
  },
  {
   "cell_type": "code",
   "execution_count": 21,
   "id": "31bd70a9-4cf7-4667-8840-1f780cedf4aa",
   "metadata": {},
   "outputs": [
    {
     "name": "stdout",
     "output_type": "stream",
     "text": [
      "+----------+------+\n",
      "|      date|volume|\n",
      "+----------+------+\n",
      "|2024-01-02|   300|\n",
      "|2009-05-18|   800|\n",
      "|2005-11-10|  1200|\n",
      "|2023-06-19|  1400|\n",
      "|2021-11-04|  1800|\n",
      "+----------+------+\n",
      "\n"
     ]
    }
   ],
   "source": [
    "df.filter(df.volume > 100).orderBy(df[\"volume\"], ascending=True).select(df[\"date\"], df[\"volume\"]).limit(5).show()"
   ]
  },
  {
   "cell_type": "markdown",
   "id": "cd50cba1-7caa-4628-9146-975cb49aa1b2",
   "metadata": {},
   "source": [
    "### Correlation Analysis"
   ]
  },
  {
   "cell_type": "code",
   "execution_count": 22,
   "id": "e539480a-e88f-44be-bd5f-43e7070c399c",
   "metadata": {},
   "outputs": [
    {
     "name": "stdout",
     "output_type": "stream",
     "text": [
      "+---------------------+\n",
      "|corr(volume, returns)|\n",
      "+---------------------+\n",
      "| 0.004638391763829...|\n",
      "+---------------------+\n",
      "\n"
     ]
    }
   ],
   "source": [
    "from pyspark.sql.functions import corr\n",
    "\n",
    "df.filter(df.volume > 100).select(corr(df['volume'], df['returns'])).show()"
   ]
  },
  {
   "cell_type": "code",
   "execution_count": 23,
   "id": "8d62cdb5-fda4-43a7-89fd-4437d8ea276a",
   "metadata": {},
   "outputs": [
    {
     "name": "stdout",
     "output_type": "stream",
     "text": [
      "+--------------------+\n",
      "|corr(low, adj_close)|\n",
      "+--------------------+\n",
      "|  0.9999451306203928|\n",
      "+--------------------+\n",
      "\n"
     ]
    }
   ],
   "source": [
    "df.filter(df.volume > 100).select(corr(df['low'], df['adj_close'])).show()"
   ]
  },
  {
   "cell_type": "code",
   "execution_count": 24,
   "id": "66f48e6e-8609-4586-b7ff-68ed2f4748e3",
   "metadata": {},
   "outputs": [
    {
     "name": "stdout",
     "output_type": "stream",
     "text": [
      "+---------------------+\n",
      "|corr(high, adj_close)|\n",
      "+---------------------+\n",
      "|   0.9999406433916251|\n",
      "+---------------------+\n",
      "\n"
     ]
    }
   ],
   "source": [
    "df.filter(df.volume > 100).select(corr(df['high'], df['adj_close'])).show()"
   ]
  },
  {
   "cell_type": "code",
   "execution_count": 25,
   "id": "25562ead-07bb-412f-bf16-4eeb68133123",
   "metadata": {},
   "outputs": [
    {
     "data": {
      "image/png": "[encoded data removed]",
      "text/plain": [
       "<Figure size 1000x800 with 2 Axes>"
      ]
     },
     "metadata": {},
     "output_type": "display_data"
    }
   ],
   "source": [
    "from pyspark.sql.functions import corr\n",
    "\n",
    "numerical_columns = [\"open\", \"close\", \"high\", \"low\", \"volume\", \"adj_close\", \"returns\"]\n",
    "\n",
    "corr_matrix = []\n",
    "for col1 in numerical_columns:\n",
    "    row = []\n",
    "    for col2 in numerical_columns:\n",
    "        corr_value = df.select(corr(col1, col2).alias(\"correlation\")).collect()[0][\"correlation\"]\n",
    "        row.append(corr_value)\n",
    "    corr_matrix.append(row)\n",
    "\n",
    "correlation_df = pd.DataFrame(corr_matrix, columns=numerical_columns, index=numerical_columns)\n",
    "\n",
    "plt.figure(figsize=(10, 8))\n",
    "sns.heatmap(correlation_df, annot=True, fmt=\".2f\", cmap=\"coolwarm\", square=True, linewidths=0.5)\n",
    "plt.title(\"Correlation Matrix\")\n",
    "plt.show()"
   ]
  },
  {
   "cell_type": "markdown",
   "id": "3b52e494-97fa-4b13-89f5-c6a133b75b71",
   "metadata": {},
   "source": [
    "### Time Series Analysis"
   ]
  },
  {
   "cell_type": "code",
   "execution_count": 26,
   "id": "b99cb5c4-d676-4fbb-b2b0-0acd503736fd",
   "metadata": {},
   "outputs": [],
   "source": [
    "from pyspark.sql.functions import year, month, dayofweek\n",
    "\n",
    "df = df.withColumn(\"year\", year(col(\"date\")))\n",
    "df = df.withColumn(\"month\", month(col(\"date\")))\n",
    "df = df.withColumn(\"dayofweek\", dayofweek(col(\"date\")))"
   ]
  },
  {
   "cell_type": "code",
   "execution_count": 27,
   "id": "7918fe92-6cb0-48a0-85c0-a881ebd2bc94",
   "metadata": {},
   "outputs": [
    {
     "name": "stdout",
     "output_type": "stream",
     "text": [
      "+----+-----+--------------------+\n",
      "|year|month|        avg(returns)|\n",
      "+----+-----+--------------------+\n",
      "|2008|   10|-0.01292445203984...|\n",
      "|2020|    3|-0.01113126308441...|\n",
      "|2008|    6|-0.00922691003533...|\n",
      "|2004|    5|-0.00747017383094...|\n",
      "|2001|    3|-0.00739827296976...|\n",
      "|2001|    9|-0.00678332381872...|\n",
      "|1998|    1|-0.00619299293060...|\n",
      "|2008|    3|-0.00597267464193...|\n",
      "|2008|    1|-0.00589865065261...|\n",
      "|1999|    4|-0.00584683623787...|\n",
      "|1997|    8|-0.00565026153988...|\n",
      "|2008|    9|-0.00560962078727685|\n",
      "|2006|    5|-0.00560040286096...|\n",
      "|2011|    1|-0.00554632995108...|\n",
      "|1998|    6|-0.00524908378829...|\n",
      "|1998|   10|-0.00511135638852...|\n",
      "|2000|   10|-0.00472659088814...|\n",
      "|2000|    7|-0.00471347053648...|\n",
      "|2011|   11|-0.00458943558618975|\n",
      "|1998|    5|-0.00445821499449...|\n",
      "+----+-----+--------------------+\n",
      "only showing top 20 rows\n",
      "\n"
     ]
    }
   ],
   "source": [
    "# Monthly average returns\n",
    "monthly_avg_returns = df.groupBy(\"year\", \"month\").agg({\"returns\": \"mean\"}).orderBy('avg(returns)')\n",
    "monthly_avg_returns.show()"
   ]
  },
  {
   "cell_type": "code",
   "execution_count": 28,
   "id": "1cf0c9fa-b040-4169-8ebc-c4b3d1c11d21",
   "metadata": {},
   "outputs": [
    {
     "name": "stdout",
     "output_type": "stream",
     "text": [
      "+----+--------------------+\n",
      "|year|        avg(returns)|\n",
      "+----+--------------------+\n",
      "|2008|-0.00263347805947...|\n",
      "|1997|-0.00121656970241...|\n",
      "|2011|-0.00106205019412...|\n",
      "|2000|-6.88131365702593...|\n",
      "|2001|-6.49710710713711...|\n",
      "|1998|-5.64723183414203...|\n",
      "|2015|-1.57747444539536...|\n",
      "|2016|1.226748602521368E-4|\n",
      "|2002|1.991885508502200...|\n",
      "|2022|2.357891922358729...|\n",
      "|2018|2.646536714227714...|\n",
      "|2013|4.085741369378205...|\n",
      "|2019|5.954334675024685E-4|\n",
      "|2004|6.205911938798892E-4|\n",
      "|2024|6.463521399111322E-4|\n",
      "|2010|6.936354591001433E-4|\n",
      "|2023|7.205848135572831E-4|\n",
      "|2020|7.948546075878536E-4|\n",
      "|2021| 8.54959986319891E-4|\n",
      "|2012| 9.81827185335687E-4|\n",
      "+----+--------------------+\n",
      "only showing top 20 rows\n",
      "\n"
     ]
    }
   ],
   "source": [
    "# Yearly average returns\n",
    "yearly_avg_returns = df.groupBy(\"year\").agg({\"returns\": \"mean\"}).orderBy('avg(returns)')\n",
    "yearly_avg_returns.show()"
   ]
  },
  {
   "cell_type": "code",
   "execution_count": 29,
   "id": "8280e62c-ed09-4802-aea7-7e0f81eaf6b5",
   "metadata": {},
   "outputs": [
    {
     "name": "stdout",
     "output_type": "stream",
     "text": [
      "+-----+------------------+\n",
      "|month|    avg(adj_close)|\n",
      "+-----+------------------+\n",
      "|    7|  22911.6900932983|\n",
      "|    1|  22868.0841418567|\n",
      "|    6|22851.032699558426|\n",
      "|    2| 22816.90751622087|\n",
      "|    5|22674.544507264254|\n",
      "|    4|22494.842810558297|\n",
      "|   12| 22450.05572317023|\n",
      "|    8|22252.795068359374|\n",
      "|   11| 22192.30075067538|\n",
      "|    3| 22135.84767359332|\n",
      "|   10| 21681.94965079661|\n",
      "|    9|21455.713229709203|\n",
      "+-----+------------------+\n",
      "\n"
     ]
    }
   ],
   "source": [
    "month_df = df.withColumn('month', month(df['date']))\n",
    "month_df.groupBy('month').avg()['month', 'avg(adj_close)'].sort(desc(\"avg(adj_close)\")).show()"
   ]
  },
  {
   "cell_type": "code",
   "execution_count": 30,
   "id": "9883f4c3-ae3b-4d1d-ba33-4f3adb686374",
   "metadata": {},
   "outputs": [
    {
     "name": "stdout",
     "output_type": "stream",
     "text": [
      "+----+----------------+\n",
      "|year|      max(close)|\n",
      "+----+----------------+\n",
      "|2024|    81867.546875|\n",
      "|2023|   72410.3828125|\n",
      "|2022|  63284.19140625|\n",
      "|2021|  61765.58984375|\n",
      "|2020|    47751.328125|\n",
      "|2019|   41681.5390625|\n",
      "|2018|  38896.62890625|\n",
      "|2017|    34056.828125|\n",
      "|2015|  29681.76953125|\n",
      "|2016| 29045.279296875|\n",
      "|2014| 28693.990234375|\n",
      "|2013| 21326.419921875|\n",
      "|2010|  20932.48046875|\n",
      "|2008| 20873.330078125|\n",
      "|2011|  20561.05078125|\n",
      "|2007| 20375.869140625|\n",
      "|2012|  19486.80078125|\n",
      "|2009| 17464.810546875|\n",
      "|2006|13972.0302734375|\n",
      "|2005|    9397.9296875|\n",
      "+----+----------------+\n",
      "only showing top 20 rows\n",
      "\n"
     ]
    }
   ],
   "source": [
    "year_df = df.withColumn('year', year(df['date']))\n",
    "year_df = year_df.groupBy('year').max()['year', 'max(close)'].sort(desc('max(close)')).show()"
   ]
  },
  {
   "cell_type": "code",
   "execution_count": 31,
   "id": "c115b146-032b-4203-bddd-43f84a926603",
   "metadata": {},
   "outputs": [
    {
     "name": "stdout",
     "output_type": "stream",
     "text": [
      "+----+-----+------------------+\n",
      "|year|month|    avg(adj_close)|\n",
      "+----+-----+------------------+\n",
      "|1997|    7|  4254.06953568892|\n",
      "|1997|    8| 4276.311659071181|\n",
      "|1997|    9| 3944.780018199574|\n",
      "|1997|   10|3991.7494731702304|\n",
      "|1997|   11| 3611.828503417969|\n",
      "|1997|   12|3515.5086558948865|\n",
      "|1998|    1|3472.8700317382813|\n",
      "|1998|    2|3402.7010176809213|\n",
      "|1998|    3| 3825.430517578125|\n",
      "|1998|    4| 4109.353682668586|\n",
      "|1998|    5|3911.9511040581597|\n",
      "|1998|    6|3317.4940851384945|\n",
      "|1998|    7|3271.7265306555705|\n",
      "|1998|    8|2988.4025268554688|\n",
      "|1998|    9|3089.8818137428975|\n",
      "|1998|   10| 2866.460544162326|\n",
      "|1998|   11|2912.3875122070312|\n",
      "|1998|   12|2945.9872824928975|\n",
      "|1999|    1| 3287.092230902778|\n",
      "|1999|    2|    3283.721484375|\n",
      "+----+-----+------------------+\n",
      "only showing top 20 rows\n",
      "\n"
     ]
    }
   ],
   "source": [
    "monthly_trends = df.groupBy(\"year\", \"month\").agg({\"adj_close\": \"mean\"}).orderBy(\"year\", \"month\")\n",
    "monthly_trends.show()"
   ]
  },
  {
   "cell_type": "code",
   "execution_count": 32,
   "id": "dfc65e47-e449-4b85-bd73-e9abff578f92",
   "metadata": {},
   "outputs": [
    {
     "name": "stdout",
     "output_type": "stream",
     "text": [
      "+----+-----+--------------------+\n",
      "|year|month|  monthly_volatility|\n",
      "+----+-----+--------------------+\n",
      "|1997|    7|0.010908905140777147|\n",
      "|1997|    8|0.019119476179207177|\n",
      "|1997|    9|  0.0109856826828557|\n",
      "|1997|   10|0.013420989956764303|\n",
      "|1997|   11|0.016058984696302344|\n",
      "|1997|   12| 0.01315871314182906|\n",
      "|1998|    1|0.015151638898106553|\n",
      "|1998|    2|0.014543298068342718|\n",
      "|1998|    3|0.015149344187052735|\n",
      "|1998|    4|0.016856139923054996|\n",
      "|1998|    5|0.018487276334989665|\n",
      "|1998|    6|0.030865173774259475|\n",
      "|1998|    7|0.020723826428532943|\n",
      "|1998|    8|0.016127315475507144|\n",
      "|1998|    9|0.014605056217745046|\n",
      "|1998|   10|0.025882652988559837|\n",
      "|1998|   11|0.013150823083087513|\n",
      "|1998|   12|0.015165197940616567|\n",
      "|1999|    1|0.019389852031202876|\n",
      "|1999|    2|0.011345814050795069|\n",
      "+----+-----+--------------------+\n",
      "only showing top 20 rows\n",
      "\n"
     ]
    }
   ],
   "source": [
    "from pyspark.sql.window import Window\n",
    "from pyspark.sql.functions import stddev, avg\n",
    "\n",
    "# Define a window for rolling calculations\n",
    "window_spec = Window.orderBy(\"date\").rowsBetween(-7, 0)\n",
    "\n",
    "# Alternatively, calculate monthly volatility\n",
    "monthly_volatility = df.groupBy(\"year\", \"month\").agg(stddev(col(\"returns\")).alias(\"monthly_volatility\"))\n",
    "monthly_volatility.orderBy(\"year\", \"month\").show()"
   ]
  },
  {
   "cell_type": "markdown",
   "id": "ea8c217f-9c8d-4cfd-bc98-c4c1134eae07",
   "metadata": {},
   "source": [
    "### Distribution Analysis"
   ]
  },
  {
   "cell_type": "code",
   "execution_count": 33,
   "id": "82add750-a0fd-4b0e-99a7-bff67ef8dd11",
   "metadata": {},
   "outputs": [
    {
     "data": {
      "image/png": "[encoded data removed]",
      "text/plain": [
       "<Figure size 1000x600 with 1 Axes>"
      ]
     },
     "metadata": {},
     "output_type": "display_data"
    }
   ],
   "source": [
    "from pyspark.sql.functions import col\n",
    "\n",
    "returns_df = df.select(\"returns\").toPandas()\n",
    "\n",
    "plt.figure(figsize=(10, 6))\n",
    "sns.histplot(returns_df[\"returns\"], bins=50, kde=True)\n",
    "plt.title(\"Distribution of Returns\")\n",
    "plt.xlabel(\"Returns\")\n",
    "plt.ylabel(\"Frequency\")\n",
    "plt.show()"
   ]
  },
  {
   "cell_type": "code",
   "execution_count": 34,
   "id": "b7f5def7-c380-445a-a87b-e2ed1058f48d",
   "metadata": {},
   "outputs": [
    {
     "name": "stdout",
     "output_type": "stream",
     "text": [
      "Skewness: -0.05869486258511967\n",
      "Kurtosis: 8.701617066025426\n"
     ]
    }
   ],
   "source": [
    "from scipy.stats import skew, kurtosis\n",
    "\n",
    "returns_data = df.select(\"returns\").toPandas()\n",
    "\n",
    "skewness = skew(returns_data[\"returns\"])\n",
    "kurt = kurtosis(returns_data[\"returns\"])\n",
    "\n",
    "print(f\"Skewness: {skewness}\")\n",
    "print(f\"Kurtosis: {kurt}\")"
   ]
  },
  {
   "cell_type": "code",
   "execution_count": 35,
   "id": "e0c85dba-24ab-4b86-9c5f-08c2558e9dd9",
   "metadata": {},
   "outputs": [],
   "source": [
    "spark.stop()"
   ]
  }
 ],
 "metadata": {
  "kernelspec": {
   "display_name": "Python 3 (ipykernel)",
   "language": "python",
   "name": "python3"
  },
  "language_info": {
   "codemirror_mode": {
    "name": "ipython",
    "version": 3
   },
   "file_extension": ".py",
   "mimetype": "text/x-python",
   "name": "python",
   "nbconvert_exporter": "python",
   "pygments_lexer": "ipython3",
   "version": "3.10.8"
  }
 },
 "nbformat": 4,
 "nbformat_minor": 5
}
